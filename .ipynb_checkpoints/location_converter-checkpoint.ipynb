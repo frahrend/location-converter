{
 "cells": [
  {
   "cell_type": "markdown",
   "metadata": {},
   "source": [
    "# Location Converter"
   ]
  },
  {
   "cell_type": "markdown",
   "metadata": {},
   "source": [
    "\n",
    "In some Data Science projects it can be helpful to work with locations, as those can possibly give hints for patterns in weather predictions ....\n",
    "\n",
    "Instead of inserting one location after the other into a location to coordinates converter and again insert those values into an array or dataframe, the goal of this project is to automate these worksteps which could otherwise take a long time for a large data set.\n",
    "\n",
    "The steps that are to be solved to accomplish such automation are listed below.\n",
    "\n",
    "Steps for this project is to produce a program that\n",
    "\n",
    "1.  takes location names from an array \n",
    "\n",
    "2.  searches those at a website for the coordinates (float numbers, positive/negative numbers give indication about North, East, South and West of Null Island (longtitude, latitude = 0°N 0°E)\n",
    "\n",
    "5.  returns those two decimal numbers in a two-dimensional array that then can easily be added to a dataframe\n",
    "This program can then be used to replace locations to numeric values for e.g. generell Mapping or Machine Learning purposes.\n",
    "\n",
    "6. also, those steps are put together to copy and paste for your project; feel free to use it :)\n"
   ]
  },
  {
   "cell_type": "code",
   "execution_count": 8,
   "metadata": {
    "collapsed": true
   },
   "outputs": [
    {
     "name": "stdout",
     "output_type": "stream",
     "text": [
      "Collecting package metadata (current_repodata.json): done\n",
      "Solving environment: done\n",
      "\n",
      "## Package Plan ##\n",
      "\n",
      "  environment location: /Users/franzi/opt/anaconda3\n",
      "\n",
      "  added / updated specs:\n",
      "    - webdriver-manager\n",
      "\n",
      "\n",
      "The following packages will be downloaded:\n",
      "\n",
      "    package                    |            build\n",
      "    ---------------------------|-----------------\n",
      "    configparser-5.0.2         |     pyhd3eb1b0_0          22 KB\n",
      "    crayons-0.4.0              |     pyh9f0ad1d_0           8 KB  conda-forge\n",
      "    webdriver-manager-3.5.4    |     pyhd8ed1ab_0          20 KB  conda-forge\n",
      "    ------------------------------------------------------------\n",
      "                                           Total:          51 KB\n",
      "\n",
      "The following NEW packages will be INSTALLED:\n",
      "\n",
      "  configparser       pkgs/main/noarch::configparser-5.0.2-pyhd3eb1b0_0\n",
      "  crayons            conda-forge/noarch::crayons-0.4.0-pyh9f0ad1d_0\n",
      "  webdriver-manager  conda-forge/noarch::webdriver-manager-3.5.4-pyhd8ed1ab_0\n",
      "\n",
      "\n",
      "\n",
      "Downloading and Extracting Packages\n",
      "webdriver-manager-3. | 20 KB     | ##################################### | 100% \n",
      "crayons-0.4.0        | 8 KB      | ##################################### | 100% \n",
      "configparser-5.0.2   | 22 KB     | ##################################### | 100% \n",
      "Preparing transaction: done\n",
      "Verifying transaction: done\n",
      "Executing transaction: done\n",
      "\n",
      "Note: you may need to restart the kernel to use updated packages.\n"
     ]
    }
   ],
   "source": [
    "conda install webdriver-manager"
   ]
  },
  {
   "cell_type": "code",
   "execution_count": 9,
   "metadata": {},
   "outputs": [],
   "source": [
    "#import packages\n",
    "import pandas as pd #software library for data manipulation and analysis\n",
    "import selenium #to install selenium: conda install -c conda-forge selenium\n",
    "from selenium import webdriver\n",
    "from selenium.webdriver.common.keys import Keys\n",
    "from selenium.webdriver.common.by import By\n",
    "from selenium.webdriver.chrome.service import Service\n",
    "from webdriver_manager.chrome import ChromeDriverManager\n",
    "import time"
   ]
  },
  {
   "cell_type": "markdown",
   "metadata": {},
   "source": [
    "Download Chromedriver on https://chromedriver.chromium.org/downloads"
   ]
  },
  {
   "cell_type": "code",
   "execution_count": 10,
   "metadata": {},
   "outputs": [],
   "source": [
    "def locationConv (location):\n",
    "    # Select the id box for location\n",
    "    id_box = driver.find_element(By.CLASS_NAME, 'form-control')\n",
    "    time.sleep(5)\n",
    "    # Delete default entry \n",
    "    id_box.click()\n",
    "    id_box.send_keys('\\ue03d'+'a')\n",
    "    id_box.send_keys(Keys.BACKSPACE)\n",
    "    id_box.send_keys(location)\n",
    "    # Click 'Get GPS Coordinates' button\n",
    "    driver.find_element(By.XPATH, \"//button[text()='Get GPS Coordinates']\").click()\n",
    "    #wait for 5 seconds in case loading takes a bit (optional)\n",
    "    time.sleep(5)\n",
    "    # Receive latitude and longitude of location\n",
    "    latitude = float(driver.find_element(By.ID,'latitude').get_attribute('value'))\n",
    "    longitude = float(driver.find_element(By.ID,'longitude').get_attribute('value'))\n",
    "    coordinates = [latitude, longitude]\n",
    "    return coordinates"
   ]
  },
  {
   "cell_type": "code",
   "execution_count": 12,
   "metadata": {},
   "outputs": [
    {
     "name": "stderr",
     "output_type": "stream",
     "text": [
      "<ipython-input-12-1ef86ee87be5>:3: DeprecationWarning: executable_path has been deprecated, please pass in a Service object\n",
      "  driver = webdriver.Chrome('/Users/franzi/GitHub/location-converter/chromedriver')#'/Users/franzi/Dropbox/Location Project 3/chromedriver') #'/Users/franzi/Documents/Location Project 2/chromedriver'\n"
     ]
    },
    {
     "name": "stdout",
     "output_type": "stream",
     "text": [
      "[31.8087678, -85.969951]\n"
     ]
    }
   ],
   "source": [
    "# Using Chrome to access web \n",
    "driver = webdriver.Chrome('/Users/franzi/GitHub/location-converter/chromedriver')\n",
    "# Open the website \n",
    "driver.get('https://www.gps-coordinates.net/')\n",
    "time.sleep(5)\n",
    "coor = locationConv('Troy Alabama')\n",
    "print(coor)\n",
    "\n",
    "driver.quit()"
   ]
  }
 ],
 "metadata": {
  "kernelspec": {
   "display_name": "Python 3",
   "language": "python",
   "name": "python3"
  },
  "language_info": {
   "codemirror_mode": {
    "name": "ipython",
    "version": 3
   },
   "file_extension": ".py",
   "mimetype": "text/x-python",
   "name": "python",
   "nbconvert_exporter": "python",
   "pygments_lexer": "ipython3",
   "version": "3.8.5"
  }
 },
 "nbformat": 4,
 "nbformat_minor": 4
}

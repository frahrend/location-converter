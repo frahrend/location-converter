{
 "cells": [
  {
   "cell_type": "markdown",
   "metadata": {},
   "source": [
    "# Project for GitHub"
   ]
  },
  {
   "cell_type": "markdown",
   "metadata": {},
   "source": [
    "Goal for this Mini-Project is to produce a program that\n",
    "\n",
    "    1.  takes location names from an array \n",
    "    \n",
    "    2.  searches those at a website for the coordinates\n",
    "    \n",
    "    3.  converts the coordinates in decimal numbers (if necessary) \n",
    "    \n",
    "    4.  differentiate between North, East, South and West with negative\n",
    "    \n",
    "    5.  returns those two decimal numbers in a two-dimensional array that then can easily be added to a dataframe\n",
    "\n",
    "This program can then be used to replace locations to numeric values for e.g. generell Mapping or Machine Learning purposes. \n",
    "\n",
    "    6. also, those steps are put together to copy and paste for your project; feel free to use it :)"
   ]
  },
  {
   "cell_type": "code",
   "execution_count": null,
   "metadata": {},
   "outputs": [],
   "source": [
    "#import libaries\n"
   ]
  },
  {
   "cell_type": "markdown",
   "metadata": {},
   "source": [
    "1.  Takes location names from an array"
   ]
  },
  {
   "cell_type": "code",
   "execution_count": null,
   "metadata": {},
   "outputs": [],
   "source": []
  },
  {
   "cell_type": "code",
   "execution_count": null,
   "metadata": {},
   "outputs": [],
   "source": []
  },
  {
   "cell_type": "code",
   "execution_count": null,
   "metadata": {},
   "outputs": [],
   "source": []
  },
  {
   "cell_type": "code",
   "execution_count": null,
   "metadata": {},
   "outputs": [],
   "source": []
  }
 ],
 "metadata": {
  "kernelspec": {
   "display_name": "Python 3",
   "language": "python",
   "name": "python3"
  },
  "language_info": {
   "codemirror_mode": {
    "name": "ipython",
    "version": 3
   },
   "file_extension": ".py",
   "mimetype": "text/x-python",
   "name": "python",
   "nbconvert_exporter": "python",
   "pygments_lexer": "ipython3",
   "version": "3.8.5"
  }
 },
 "nbformat": 4,
 "nbformat_minor": 4
}
